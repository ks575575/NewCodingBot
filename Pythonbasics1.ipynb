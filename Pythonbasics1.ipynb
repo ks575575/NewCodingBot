{
  "cells": [
    {
      "cell_type": "markdown",
      "metadata": {
        "id": "view-in-github",
        "colab_type": "text"
      },
      "source": [
        "<a href=\"https://colab.research.google.com/github/ks575575/NewCodingBot/blob/main/Pythonbasics1.ipynb\" target=\"_parent\"><img src=\"https://colab.research.google.com/assets/colab-badge.svg\" alt=\"Open In Colab\"/></a>"
      ]
    },
    {
      "cell_type": "markdown",
      "metadata": {
        "id": "ctM_CB3BbjU-"
      },
      "source": [
        "## statements in python (creating a variable)\n",
        "ctrl enter gives output\n",
        "shift enter gives result+another line"
      ]
    },
    {
      "cell_type": "code",
      "execution_count": 17,
      "metadata": {
        "colab": {
          "base_uri": "https://localhost:8080/"
        },
        "id": "_MeXmMBebjVM",
        "outputId": "3f3f661a-e656-4d10-e440-e37afd1fb04e"
      },
      "outputs": [
        {
          "output_type": "stream",
          "name": "stdout",
          "text": [
            "hello world abc\n"
          ]
        }
      ],
      "source": [
        "x = 'abc'\n",
        "print('hello world',x)"
      ]
    },
    {
      "cell_type": "code",
      "execution_count": 9,
      "metadata": {
        "colab": {
          "base_uri": "https://localhost:8080/"
        },
        "id": "kw3ozog_bjVP",
        "outputId": "d8b399aa-b660-40a8-9195-3949fc5cc497"
      },
      "outputs": [
        {
          "output_type": "stream",
          "name": "stdout",
          "text": [
            "11\n"
          ]
        }
      ],
      "source": [
        "x=11\n",
        "if x>10 and x<13:\n",
        "    print(x)"
      ]
    },
    {
      "cell_type": "markdown",
      "source": [
        "# in if statements it is very important to have alignment proper otherwise will get error"
      ],
      "metadata": {
        "id": "x5vRU0kztiuK"
      }
    },
    {
      "cell_type": "code",
      "source": [
        "x=2\n",
        "if x>3:\n",
        "  print('hello dear',6)\n",
        "else:\n",
        "  print('bye')"
      ],
      "metadata": {
        "colab": {
          "base_uri": "https://localhost:8080/"
        },
        "id": "19hwi7A_saNK",
        "outputId": "730692f1-ea0b-456d-dd6d-2d7d973e25b9"
      },
      "execution_count": 16,
      "outputs": [
        {
          "output_type": "stream",
          "name": "stdout",
          "text": [
            "bye\n"
          ]
        }
      ]
    },
    {
      "cell_type": "code",
      "execution_count": 4,
      "metadata": {
        "colab": {
          "base_uri": "https://localhost:8080/"
        },
        "id": "XcfLPG-RbjVR",
        "outputId": "565b1a49-1eb0-4947-91ad-32148af7ca26"
      },
      "outputs": [
        {
          "output_type": "execute_result",
          "data": {
            "text/plain": [
              "10"
            ]
          },
          "metadata": {},
          "execution_count": 4
        }
      ],
      "source": [
        "x =10\n",
        "x"
      ]
    },
    {
      "cell_type": "code",
      "execution_count": 5,
      "metadata": {
        "id": "T9ubLJBCbjVS",
        "colab": {
          "base_uri": "https://localhost:8080/"
        },
        "outputId": "2bc84429-ba66-4dde-8e5b-dc2a7095c674"
      },
      "outputs": [
        {
          "output_type": "execute_result",
          "data": {
            "text/plain": [
              "11256352"
            ]
          },
          "metadata": {},
          "execution_count": 5
        }
      ],
      "source": [
        "id(x)"
      ]
    },
    {
      "cell_type": "code",
      "execution_count": 6,
      "metadata": {
        "colab": {
          "base_uri": "https://localhost:8080/"
        },
        "id": "-8Wp5ctlbjVU",
        "outputId": "d115c664-f8c8-463a-d2aa-6625c4d0fbca"
      },
      "outputs": [
        {
          "output_type": "execute_result",
          "data": {
            "text/plain": [
              "6"
            ]
          },
          "metadata": {},
          "execution_count": 6
        }
      ],
      "source": [
        "y = 6\n",
        "y"
      ]
    },
    {
      "cell_type": "code",
      "execution_count": null,
      "metadata": {
        "id": "AqtZOy_5bjVV"
      },
      "outputs": [],
      "source": [
        "id(y)"
      ]
    },
    {
      "cell_type": "code",
      "execution_count": null,
      "metadata": {
        "id": "thA5e9OwbjVX"
      },
      "outputs": [],
      "source": [
        "x =15\n",
        "x"
      ]
    },
    {
      "cell_type": "code",
      "execution_count": null,
      "metadata": {
        "id": "kCVzx-lvbjVZ"
      },
      "outputs": [],
      "source": [
        "id(x)"
      ]
    },
    {
      "cell_type": "code",
      "execution_count": null,
      "metadata": {
        "colab": {
          "base_uri": "https://localhost:8080/",
          "height": 35
        },
        "id": "Xz51FvhybjVb",
        "outputId": "a13e8e2a-e990-4aa5-8658-7e851fa1b503"
      },
      "outputs": [
        {
          "output_type": "execute_result",
          "data": {
            "application/vnd.google.colaboratory.intrinsic+json": {
              "type": "string"
            },
            "text/plain": [
              "'0x55652c704b20'"
            ]
          },
          "metadata": {},
          "execution_count": 10
        }
      ],
      "source": [
        "hex(id(x))"
      ]
    },
    {
      "cell_type": "code",
      "execution_count": null,
      "metadata": {
        "id": "wZzb2ORLbjVd"
      },
      "outputs": [],
      "source": [
        "2+5"
      ]
    },
    {
      "cell_type": "code",
      "execution_count": null,
      "metadata": {
        "id": "djNr33d1bjVe"
      },
      "outputs": [],
      "source": [
        "5-7"
      ]
    },
    {
      "cell_type": "code",
      "execution_count": null,
      "metadata": {
        "id": "lkHFhZ4jbjVf"
      },
      "outputs": [],
      "source": [
        "5*7"
      ]
    },
    {
      "cell_type": "code",
      "execution_count": null,
      "metadata": {
        "colab": {
          "base_uri": "https://localhost:8080/"
        },
        "id": "247Il5U5bjVg",
        "outputId": "e9e39615-53c3-4c25-d62d-93552cdf81ff"
      },
      "outputs": [
        {
          "output_type": "execute_result",
          "data": {
            "text/plain": [
              "3"
            ]
          },
          "metadata": {},
          "execution_count": 14
        }
      ],
      "source": [
        "-17%5"
      ]
    },
    {
      "cell_type": "code",
      "execution_count": 7,
      "metadata": {
        "colab": {
          "base_uri": "https://localhost:8080/"
        },
        "id": "NEBbyPN7bjVh",
        "outputId": "9fe66b07-290e-47a3-9331-19c0e90de503"
      },
      "outputs": [
        {
          "output_type": "execute_result",
          "data": {
            "text/plain": [
              "(3, 1)"
            ]
          },
          "metadata": {},
          "execution_count": 7
        }
      ],
      "source": [
        "13//4,13%4"
      ]
    },
    {
      "cell_type": "code",
      "execution_count": null,
      "metadata": {
        "colab": {
          "base_uri": "https://localhost:8080/"
        },
        "id": "e2IhXifrbjVh",
        "outputId": "cf31a83a-451e-4886-bfc4-125b40ed7e58"
      },
      "outputs": [
        {
          "output_type": "execute_result",
          "data": {
            "text/plain": [
              "(-4, 3)"
            ]
          },
          "metadata": {},
          "execution_count": 20
        }
      ],
      "source": [
        "-13//4,-13%4"
      ]
    },
    {
      "cell_type": "code",
      "execution_count": null,
      "metadata": {
        "id": "ebfjoe-lbjVi"
      },
      "outputs": [],
      "source": [
        "13//-4,13%-4"
      ]
    },
    {
      "cell_type": "code",
      "execution_count": null,
      "metadata": {
        "colab": {
          "base_uri": "https://localhost:8080/"
        },
        "id": "y_hZkpzbbjVj",
        "outputId": "a263ad98-78d1-4628-ee3d-bad9c9a0c330"
      },
      "outputs": [
        {
          "output_type": "execute_result",
          "data": {
            "text/plain": [
              "(3, -1)"
            ]
          },
          "metadata": {},
          "execution_count": 21
        }
      ],
      "source": [
        "-13//-4,-13%-4"
      ]
    },
    {
      "cell_type": "code",
      "execution_count": null,
      "metadata": {
        "id": "xGxCobB9bjVk"
      },
      "outputs": [],
      "source": [
        "a=3*1.1\n",
        "b=3.3"
      ]
    },
    {
      "cell_type": "code",
      "execution_count": null,
      "metadata": {
        "id": "GnNToipybjVl"
      },
      "outputs": [],
      "source": [
        "a==b"
      ]
    },
    {
      "cell_type": "code",
      "execution_count": null,
      "metadata": {
        "colab": {
          "base_uri": "https://localhost:8080/"
        },
        "id": "cXXgDZONbjVn",
        "outputId": "445a9ec7-60fb-446e-ed1a-cf3454341cb9"
      },
      "outputs": [
        {
          "output_type": "execute_result",
          "data": {
            "text/plain": [
              "3.3000000000000003"
            ]
          },
          "metadata": {},
          "execution_count": 17
        }
      ],
      "source": [
        "(3*1.1)"
      ]
    },
    {
      "cell_type": "code",
      "execution_count": null,
      "metadata": {
        "id": "n0XJ4XQXbjVn"
      },
      "outputs": [],
      "source": [
        "import math"
      ]
    },
    {
      "cell_type": "code",
      "execution_count": null,
      "metadata": {
        "id": "x3tiUl79bjVo"
      },
      "outputs": [],
      "source": [
        "math.isclose(a,b)"
      ]
    },
    {
      "cell_type": "code",
      "execution_count": null,
      "metadata": {
        "id": "aPGQJ9IFbjVp"
      },
      "outputs": [],
      "source": [
        "False and True or True"
      ]
    },
    {
      "cell_type": "code",
      "execution_count": null,
      "metadata": {
        "id": "BgR20ntzbjVq"
      },
      "outputs": [],
      "source": [
        "False or True and False"
      ]
    },
    {
      "cell_type": "code",
      "execution_count": null,
      "metadata": {
        "id": "3gGTN1srbjVq"
      },
      "outputs": [],
      "source": [
        "False and (True or False)"
      ]
    },
    {
      "cell_type": "code",
      "execution_count": null,
      "metadata": {
        "id": "uRARSrEUbjVr"
      },
      "outputs": [],
      "source": [
        "not False"
      ]
    },
    {
      "cell_type": "code",
      "execution_count": null,
      "metadata": {
        "id": "2jhWM7nnbjVr"
      },
      "outputs": [],
      "source": [
        "not True"
      ]
    },
    {
      "cell_type": "markdown",
      "metadata": {
        "id": "BEk37x3pbjVs"
      },
      "source": [
        "## Data structures"
      ]
    },
    {
      "cell_type": "code",
      "execution_count": null,
      "metadata": {
        "id": "A0tvnAb5bjVt"
      },
      "outputs": [],
      "source": [
        "list1 = [1,2,3,4,5]\n",
        "list1"
      ]
    },
    {
      "cell_type": "code",
      "execution_count": null,
      "metadata": {
        "id": "O6CJ88yubjVt"
      },
      "outputs": [],
      "source": [
        "type(list1)"
      ]
    },
    {
      "cell_type": "code",
      "execution_count": null,
      "metadata": {
        "id": "StzzvLh8bjVu"
      },
      "outputs": [],
      "source": [
        "tup1 = (10,20,30,40,50)\n",
        "tup1"
      ]
    },
    {
      "cell_type": "code",
      "execution_count": null,
      "metadata": {
        "id": "AlpxI_fMbjVu"
      },
      "outputs": [],
      "source": [
        "type(tup1)"
      ]
    },
    {
      "cell_type": "code",
      "execution_count": null,
      "metadata": {
        "id": "o65qdfsFbjVv"
      },
      "outputs": [],
      "source": [
        "str1 = 'hello world'\n",
        "str1"
      ]
    },
    {
      "cell_type": "code",
      "execution_count": null,
      "metadata": {
        "id": "pzkCO_PJbjVv"
      },
      "outputs": [],
      "source": [
        "type(str1)"
      ]
    },
    {
      "cell_type": "code",
      "execution_count": null,
      "metadata": {
        "id": "AQdaqQ0pbjVw"
      },
      "outputs": [],
      "source": [
        "list1"
      ]
    },
    {
      "cell_type": "code",
      "execution_count": null,
      "metadata": {
        "id": "MH2Dzvs4bjVx"
      },
      "outputs": [],
      "source": [
        "list1[3]"
      ]
    },
    {
      "cell_type": "code",
      "execution_count": null,
      "metadata": {
        "id": "RaxQ_2SXbjVx"
      },
      "outputs": [],
      "source": [
        "tup1"
      ]
    },
    {
      "cell_type": "code",
      "execution_count": null,
      "metadata": {
        "id": "r0a1V4znbjVy"
      },
      "outputs": [],
      "source": [
        "tup1[4]"
      ]
    },
    {
      "cell_type": "code",
      "execution_count": null,
      "metadata": {
        "id": "SQJ7d_PJbjVy"
      },
      "outputs": [],
      "source": [
        "tup1[-1]"
      ]
    },
    {
      "cell_type": "markdown",
      "metadata": {
        "id": "d3r091jjbjVz"
      },
      "source": [
        "## Slicing"
      ]
    },
    {
      "cell_type": "code",
      "execution_count": null,
      "metadata": {
        "id": "Y_nVDhStbjVz"
      },
      "outputs": [],
      "source": [
        "str1"
      ]
    },
    {
      "cell_type": "code",
      "execution_count": null,
      "metadata": {
        "id": "l8m9BP-ObjV0"
      },
      "outputs": [],
      "source": [
        "str1[1:3]"
      ]
    },
    {
      "cell_type": "code",
      "execution_count": null,
      "metadata": {
        "id": "u_2jqN9wbjV0"
      },
      "outputs": [],
      "source": [
        "str1[0:5]"
      ]
    },
    {
      "cell_type": "code",
      "execution_count": null,
      "metadata": {
        "id": "f6h2eYrRbjV1"
      },
      "outputs": [],
      "source": [
        "list1"
      ]
    },
    {
      "cell_type": "code",
      "execution_count": null,
      "metadata": {
        "id": "ZfCzUbSFbjV1"
      },
      "outputs": [],
      "source": [
        "list1[2:]"
      ]
    },
    {
      "cell_type": "code",
      "execution_count": null,
      "metadata": {
        "id": "RtlFxT6objV2"
      },
      "outputs": [],
      "source": [
        "list1[:4]"
      ]
    },
    {
      "cell_type": "code",
      "execution_count": null,
      "metadata": {
        "id": "Yb4o9g3HbjV2"
      },
      "outputs": [],
      "source": [
        "list1[:]"
      ]
    },
    {
      "cell_type": "code",
      "execution_count": null,
      "metadata": {
        "id": "6-wg0i7NbjV2"
      },
      "outputs": [],
      "source": [
        "list1[1:4:2]"
      ]
    },
    {
      "cell_type": "code",
      "execution_count": null,
      "metadata": {
        "id": "VMDiwLPfbjV3"
      },
      "outputs": [],
      "source": [
        "list1[::-1]"
      ]
    },
    {
      "cell_type": "code",
      "execution_count": 19,
      "metadata": {
        "id": "ohsqTrmkbjV3",
        "colab": {
          "base_uri": "https://localhost:8080/",
          "height": 35
        },
        "outputId": "b06110df-524d-4840-8d0a-65bb77e73ed3"
      },
      "outputs": [
        {
          "output_type": "execute_result",
          "data": {
            "text/plain": [
              "'Welcome'"
            ],
            "application/vnd.google.colaboratory.intrinsic+json": {
              "type": "string"
            }
          },
          "metadata": {},
          "execution_count": 19
        }
      ],
      "source": [
        "str=\"Welcome\"\n",
        "str"
      ]
    },
    {
      "cell_type": "code",
      "execution_count": 20,
      "metadata": {
        "id": "_CL3ijXjbjV4",
        "colab": {
          "base_uri": "https://localhost:8080/",
          "height": 35
        },
        "outputId": "956c2931-d9c6-4960-ac6c-c4e778742c7b"
      },
      "outputs": [
        {
          "output_type": "execute_result",
          "data": {
            "text/plain": [
              "'emocleW'"
            ],
            "application/vnd.google.colaboratory.intrinsic+json": {
              "type": "string"
            }
          },
          "metadata": {},
          "execution_count": 20
        }
      ],
      "source": [
        "str[::-1]"
      ]
    },
    {
      "cell_type": "code",
      "execution_count": 22,
      "metadata": {
        "id": "fZ3qXijGbjV5",
        "colab": {
          "base_uri": "https://localhost:8080/"
        },
        "outputId": "30f1b402-77d5-40de-cdef-b3cc9467f164"
      },
      "outputs": [
        {
          "output_type": "execute_result",
          "data": {
            "text/plain": [
              "[(0, 'W'), (1, 'e'), (2, 'l'), (3, 'c'), (4, 'o'), (5, 'm'), (6, 'e')]"
            ]
          },
          "metadata": {},
          "execution_count": 22
        }
      ],
      "source": [
        "list(enumerate(str))"
      ]
    },
    {
      "cell_type": "code",
      "source": [
        ""
      ],
      "metadata": {
        "id": "A_x0ySBKu12K"
      },
      "execution_count": 22,
      "outputs": []
    }
  ],
  "metadata": {
    "kernelspec": {
      "display_name": "Python 3",
      "language": "python",
      "name": "python3"
    },
    "language_info": {
      "codemirror_mode": {
        "name": "ipython",
        "version": 3
      },
      "file_extension": ".py",
      "mimetype": "text/x-python",
      "name": "python",
      "nbconvert_exporter": "python",
      "pygments_lexer": "ipython3",
      "version": "3.8.5"
    },
    "colab": {
      "name": "Python1stday.ipynb",
      "provenance": [],
      "include_colab_link": true
    }
  },
  "nbformat": 4,
  "nbformat_minor": 0
}