{
  "cells": [
    {
      "cell_type": "markdown",
      "metadata": {
        "id": "view-in-github",
        "colab_type": "text"
      },
      "source": [
        "<a href=\"https://colab.research.google.com/github/ks575575/NewCodingBot/blob/main/game.ipynb\" target=\"_parent\"><img src=\"https://colab.research.google.com/assets/colab-badge.svg\" alt=\"Open In Colab\"/></a>"
      ]
    },
    {
      "cell_type": "code",
      "execution_count": null,
      "metadata": {
        "colab": {
          "base_uri": "https://localhost:8080/"
        },
        "id": "NlXotaDpW7ts",
        "outputId": "15b9488a-758c-46ce-8b61-a67b93b1adb4"
      },
      "outputs": [
        {
          "name": "stdout",
          "output_type": "stream",
          "text": [
            "-f\n"
          ]
        }
      ],
      "source": [
        "import sys\n",
        "print(sys.argv[1])"
      ]
    },
    {
      "cell_type": "code",
      "execution_count": null,
      "metadata": {
        "colab": {
          "base_uri": "https://localhost:8080/",
          "height": 130
        },
        "id": "1gCYdNoaW8bq",
        "outputId": "ad0943d5-fd1f-4bf0-cd6a-61581d2f6613"
      },
      "outputs": [
        {
          "ename": "SyntaxError",
          "evalue": "ignored",
          "output_type": "error",
          "traceback": [
            "\u001b[0;36m  File \u001b[0;32m\"<ipython-input-5-73343c6f3a2a>\"\u001b[0;36m, line \u001b[0;32m1\u001b[0m\n\u001b[0;31m    $ python echo.py hello\u001b[0m\n\u001b[0m    ^\u001b[0m\n\u001b[0;31mSyntaxError\u001b[0m\u001b[0;31m:\u001b[0m invalid syntax\n"
          ]
        }
      ],
      "source": [
        ""
      ]
    },
    {
      "cell_type": "code",
      "execution_count": null,
      "metadata": {
        "colab": {
          "base_uri": "https://localhost:8080/"
        },
        "id": "lkKRb4J6W8ff",
        "outputId": "57070d64-9102-4e1b-f364-5c3acafb3f19"
      },
      "outputs": [
        {
          "name": "stdout",
          "output_type": "stream",
          "text": [
            "1\n",
            "3\n",
            "4\n",
            "6\n"
          ]
        }
      ],
      "source": [
        "for x in [1,3,4,6]:\n",
        "    print(x)"
      ]
    },
    {
      "cell_type": "code",
      "execution_count": null,
      "metadata": {
        "colab": {
          "base_uri": "https://localhost:8080/"
        },
        "id": "IkC6u4bkW8g-",
        "outputId": "f40c0410-f612-4fe4-f509-32d8a2e7ed54"
      },
      "outputs": [
        {
          "name": "stdout",
          "output_type": "stream",
          "text": [
            "3 9 27\n",
            "4 16 64\n",
            "5 25 125\n",
            "6 36 216\n",
            "7 49 343\n",
            "8 64 512\n",
            "9 81 729\n",
            "10 100 1000\n",
            "11 121 1331\n",
            "12 144 1728\n",
            "13 169 2197\n",
            "14 196 2744\n",
            "15 225 3375\n",
            "16 256 4096\n",
            "17 289 4913\n",
            "18 324 5832\n",
            "19 361 6859\n",
            "20 400 8000\n",
            "21 441 9261\n",
            "22 484 10648\n",
            "23 529 12167\n",
            "24 576 13824\n",
            "25 625 15625\n",
            "26 676 17576\n",
            "27 729 19683\n",
            "28 784 21952\n",
            "29 841 24389\n",
            "30 900 27000\n",
            "31 961 29791\n",
            "32 1024 32768\n",
            "33 1089 35937\n",
            "34 1156 39304\n",
            "35 1225 42875\n",
            "36 1296 46656\n",
            "37 1369 50653\n",
            "38 1444 54872\n",
            "39 1521 59319\n",
            "40 1600 64000\n",
            "41 1681 68921\n",
            "42 1764 74088\n",
            "43 1849 79507\n",
            "44 1936 85184\n",
            "45 2025 91125\n",
            "46 2116 97336\n",
            "47 2209 103823\n",
            "48 2304 110592\n",
            "49 2401 117649\n",
            "50 2500 125000\n",
            "51 2601 132651\n",
            "52 2704 140608\n",
            "53 2809 148877\n",
            "54 2916 157464\n",
            "55 3025 166375\n",
            "56 3136 175616\n",
            "57 3249 185193\n",
            "58 3364 195112\n",
            "59 3481 205379\n",
            "60 3600 216000\n",
            "61 3721 226981\n",
            "62 3844 238328\n",
            "63 3969 250047\n",
            "64 4096 262144\n",
            "65 4225 274625\n",
            "66 4356 287496\n",
            "67 4489 300763\n",
            "68 4624 314432\n",
            "69 4761 328509\n",
            "70 4900 343000\n",
            "71 5041 357911\n",
            "72 5184 373248\n",
            "73 5329 389017\n",
            "74 5476 405224\n",
            "75 5625 421875\n",
            "76 5776 438976\n",
            "77 5929 456533\n",
            "78 6084 474552\n",
            "79 6241 493039\n",
            "80 6400 512000\n",
            "81 6561 531441\n",
            "82 6724 551368\n",
            "83 6889 571787\n",
            "84 7056 592704\n",
            "85 7225 614125\n",
            "86 7396 636056\n",
            "87 7569 658503\n",
            "88 7744 681472\n",
            "89 7921 704969\n",
            "90 8100 729000\n",
            "91 8281 753571\n",
            "92 8464 778688\n",
            "93 8649 804357\n",
            "94 8836 830584\n",
            "95 9025 857375\n",
            "96 9216 884736\n",
            "97 9409 912673\n",
            "98 9604 941192\n",
            "99 9801 970299\n",
            "100 10000 1000000\n",
            "101 10201 1030301\n",
            "102 10404 1061208\n",
            "103 10609 1092727\n",
            "104 10816 1124864\n",
            "105 11025 1157625\n",
            "106 11236 1191016\n",
            "107 11449 1225043\n",
            "108 11664 1259712\n",
            "109 11881 1295029\n",
            "110 12100 1331000\n",
            "111 12321 1367631\n",
            "112 12544 1404928\n",
            "113 12769 1442897\n",
            "114 12996 1481544\n",
            "115 13225 1520875\n",
            "116 13456 1560896\n",
            "117 13689 1601613\n",
            "118 13924 1643032\n",
            "119 14161 1685159\n",
            "120 14400 1728000\n",
            "121 14641 1771561\n",
            "122 14884 1815848\n",
            "123 15129 1860867\n",
            "124 15376 1906624\n",
            "125 15625 1953125\n",
            "126 15876 2000376\n",
            "127 16129 2048383\n",
            "128 16384 2097152\n",
            "129 16641 2146689\n",
            "130 16900 2197000\n",
            "131 17161 2248091\n",
            "132 17424 2299968\n",
            "133 17689 2352637\n",
            "134 17956 2406104\n",
            "135 18225 2460375\n",
            "136 18496 2515456\n",
            "137 18769 2571353\n",
            "138 19044 2628072\n",
            "139 19321 2685619\n",
            "140 19600 2744000\n",
            "141 19881 2803221\n",
            "142 20164 2863288\n",
            "143 20449 2924207\n",
            "144 20736 2985984\n",
            "145 21025 3048625\n",
            "146 21316 3112136\n",
            "147 21609 3176523\n",
            "148 21904 3241792\n",
            "149 22201 3307949\n",
            "150 22500 3375000\n",
            "151 22801 3442951\n",
            "152 23104 3511808\n",
            "153 23409 3581577\n",
            "154 23716 3652264\n",
            "155 24025 3723875\n",
            "156 24336 3796416\n",
            "157 24649 3869893\n",
            "158 24964 3944312\n",
            "159 25281 4019679\n",
            "160 25600 4096000\n",
            "161 25921 4173281\n",
            "162 26244 4251528\n",
            "163 26569 4330747\n",
            "164 26896 4410944\n",
            "165 27225 4492125\n",
            "166 27556 4574296\n",
            "167 27889 4657463\n",
            "168 28224 4741632\n",
            "169 28561 4826809\n",
            "170 28900 4913000\n",
            "171 29241 5000211\n",
            "172 29584 5088448\n",
            "173 29929 5177717\n",
            "174 30276 5268024\n",
            "175 30625 5359375\n",
            "176 30976 5451776\n",
            "177 31329 5545233\n",
            "178 31684 5639752\n",
            "179 32041 5735339\n",
            "180 32400 5832000\n",
            "181 32761 5929741\n",
            "182 33124 6028568\n",
            "183 33489 6128487\n",
            "184 33856 6229504\n",
            "185 34225 6331625\n",
            "186 34596 6434856\n",
            "187 34969 6539203\n",
            "188 35344 6644672\n",
            "189 35721 6751269\n",
            "190 36100 6859000\n",
            "191 36481 6967871\n",
            "192 36864 7077888\n",
            "193 37249 7189057\n",
            "194 37636 7301384\n",
            "195 38025 7414875\n",
            "196 38416 7529536\n",
            "197 38809 7645373\n",
            "198 39204 7762392\n",
            "199 39601 7880599\n",
            "200 40000 8000000\n",
            "201 40401 8120601\n",
            "202 40804 8242408\n",
            "203 41209 8365427\n",
            "204 41616 8489664\n",
            "205 42025 8615125\n",
            "206 42436 8741816\n",
            "207 42849 8869743\n",
            "208 43264 8998912\n",
            "209 43681 9129329\n",
            "210 44100 9261000\n",
            "211 44521 9393931\n",
            "212 44944 9528128\n",
            "213 45369 9663597\n",
            "214 45796 9800344\n",
            "215 46225 9938375\n",
            "216 46656 10077696\n",
            "217 47089 10218313\n",
            "218 47524 10360232\n",
            "219 47961 10503459\n",
            "220 48400 10648000\n",
            "221 48841 10793861\n",
            "222 49284 10941048\n",
            "223 49729 11089567\n",
            "224 50176 11239424\n",
            "225 50625 11390625\n",
            "226 51076 11543176\n",
            "227 51529 11697083\n",
            "228 51984 11852352\n",
            "229 52441 12008989\n",
            "230 52900 12167000\n",
            "231 53361 12326391\n",
            "232 53824 12487168\n",
            "233 54289 12649337\n",
            "234 54756 12812904\n",
            "235 55225 12977875\n",
            "236 55696 13144256\n",
            "237 56169 13312053\n",
            "238 56644 13481272\n",
            "239 57121 13651919\n",
            "240 57600 13824000\n",
            "241 58081 13997521\n",
            "242 58564 14172488\n",
            "243 59049 14348907\n",
            "244 59536 14526784\n",
            "245 60025 14706125\n",
            "246 60516 14886936\n",
            "247 61009 15069223\n",
            "248 61504 15252992\n",
            "249 62001 15438249\n",
            "250 62500 15625000\n",
            "251 63001 15813251\n",
            "252 63504 16003008\n",
            "253 64009 16194277\n",
            "254 64516 16387064\n",
            "255 65025 16581375\n",
            "256 65536 16777216\n",
            "257 66049 16974593\n",
            "258 66564 17173512\n",
            "259 67081 17373979\n",
            "260 67600 17576000\n",
            "261 68121 17779581\n",
            "262 68644 17984728\n",
            "263 69169 18191447\n",
            "264 69696 18399744\n",
            "265 70225 18609625\n",
            "266 70756 18821096\n",
            "267 71289 19034163\n",
            "268 71824 19248832\n",
            "269 72361 19465109\n",
            "270 72900 19683000\n",
            "271 73441 19902511\n",
            "272 73984 20123648\n",
            "273 74529 20346417\n",
            "274 75076 20570824\n",
            "275 75625 20796875\n",
            "276 76176 21024576\n",
            "277 76729 21253933\n",
            "278 77284 21484952\n",
            "279 77841 21717639\n",
            "280 78400 21952000\n",
            "281 78961 22188041\n",
            "282 79524 22425768\n",
            "283 80089 22665187\n",
            "284 80656 22906304\n",
            "285 81225 23149125\n",
            "286 81796 23393656\n",
            "287 82369 23639903\n",
            "288 82944 23887872\n",
            "289 83521 24137569\n",
            "290 84100 24389000\n",
            "291 84681 24642171\n",
            "292 85264 24897088\n",
            "293 85849 25153757\n",
            "294 86436 25412184\n",
            "295 87025 25672375\n",
            "296 87616 25934336\n",
            "297 88209 26198073\n",
            "298 88804 26463592\n",
            "299 89401 26730899\n",
            "300 90000 27000000\n",
            "301 90601 27270901\n",
            "302 91204 27543608\n",
            "303 91809 27818127\n",
            "304 92416 28094464\n",
            "305 93025 28372625\n",
            "306 93636 28652616\n",
            "307 94249 28934443\n",
            "308 94864 29218112\n",
            "309 95481 29503629\n",
            "310 96100 29791000\n",
            "311 96721 30080231\n",
            "312 97344 30371328\n",
            "313 97969 30664297\n",
            "314 98596 30959144\n",
            "315 99225 31255875\n",
            "316 99856 31554496\n",
            "317 100489 31855013\n",
            "318 101124 32157432\n",
            "319 101761 32461759\n",
            "320 102400 32768000\n",
            "321 103041 33076161\n",
            "322 103684 33386248\n",
            "323 104329 33698267\n",
            "324 104976 34012224\n",
            "325 105625 34328125\n",
            "326 106276 34645976\n",
            "327 106929 34965783\n",
            "328 107584 35287552\n",
            "329 108241 35611289\n",
            "330 108900 35937000\n",
            "331 109561 36264691\n",
            "332 110224 36594368\n",
            "333 110889 36926037\n",
            "334 111556 37259704\n",
            "335 112225 37595375\n",
            "336 112896 37933056\n",
            "337 113569 38272753\n",
            "338 114244 38614472\n",
            "339 114921 38958219\n",
            "340 115600 39304000\n",
            "341 116281 39651821\n",
            "342 116964 40001688\n",
            "343 117649 40353607\n",
            "344 118336 40707584\n",
            "345 119025 41063625\n",
            "346 119716 41421736\n",
            "347 120409 41781923\n",
            "348 121104 42144192\n",
            "349 121801 42508549\n",
            "350 122500 42875000\n",
            "351 123201 43243551\n",
            "352 123904 43614208\n",
            "353 124609 43986977\n",
            "354 125316 44361864\n",
            "355 126025 44738875\n",
            "356 126736 45118016\n",
            "357 127449 45499293\n",
            "358 128164 45882712\n",
            "359 128881 46268279\n",
            "360 129600 46656000\n",
            "361 130321 47045881\n",
            "362 131044 47437928\n",
            "363 131769 47832147\n",
            "364 132496 48228544\n",
            "365 133225 48627125\n",
            "366 133956 49027896\n",
            "367 134689 49430863\n",
            "368 135424 49836032\n",
            "369 136161 50243409\n",
            "370 136900 50653000\n",
            "371 137641 51064811\n",
            "372 138384 51478848\n",
            "373 139129 51895117\n",
            "374 139876 52313624\n",
            "375 140625 52734375\n",
            "376 141376 53157376\n",
            "377 142129 53582633\n",
            "378 142884 54010152\n",
            "379 143641 54439939\n",
            "380 144400 54872000\n",
            "381 145161 55306341\n",
            "382 145924 55742968\n",
            "383 146689 56181887\n",
            "384 147456 56623104\n",
            "385 148225 57066625\n",
            "386 148996 57512456\n",
            "387 149769 57960603\n",
            "388 150544 58411072\n",
            "389 151321 58863869\n",
            "390 152100 59319000\n",
            "391 152881 59776471\n",
            "392 153664 60236288\n",
            "393 154449 60698457\n",
            "394 155236 61162984\n",
            "395 156025 61629875\n",
            "396 156816 62099136\n",
            "397 157609 62570773\n",
            "398 158404 63044792\n"
          ]
        }
      ],
      "source": [
        "for x in range(3,399):\n",
        "  print(x,x*x,x*x*x)"
      ]
    },
    {
      "cell_type": "code",
      "execution_count": null,
      "metadata": {
        "colab": {
          "base_uri": "https://localhost:8080/"
        },
        "id": "0qw3PE0oW8jl",
        "outputId": "c1557137-de3c-487a-faa3-55a24b46a457"
      },
      "outputs": [
        {
          "data": {
            "text/plain": [
              "8.999"
            ]
          },
          "execution_count": 14,
          "metadata": {},
          "output_type": "execute_result"
        }
      ],
      "source": [
        "max(8.999,5.6,-9)"
      ]
    },
    {
      "cell_type": "code",
      "execution_count": null,
      "metadata": {
        "colab": {
          "base_uri": "https://localhost:8080/",
          "height": 165
        },
        "id": "ED1ZvK1BW8nK",
        "outputId": "b080b198-1ba3-439e-ef40-566c7cec39fb"
      },
      "outputs": [
        {
          "ename": "NameError",
          "evalue": "ignored",
          "output_type": "error",
          "traceback": [
            "\u001b[0;31m---------------------------------------------------------------------------\u001b[0m",
            "\u001b[0;31mNameError\u001b[0m                                 Traceback (most recent call last)",
            "\u001b[0;32m<ipython-input-16-8ed7e3751c35>\u001b[0m in \u001b[0;36m<module>\u001b[0;34m()\u001b[0m\n\u001b[0;32m----> 1\u001b[0;31m \u001b[0mdups\u001b[0m\u001b[0;34m(\u001b[0m\u001b[0;34m[\u001b[0m\u001b[0;36m2\u001b[0m\u001b[0;34m,\u001b[0m\u001b[0;36m3\u001b[0m\u001b[0;34m,\u001b[0m\u001b[0;36m3\u001b[0m\u001b[0;34m,\u001b[0m\u001b[0;36m3\u001b[0m\u001b[0;34m,\u001b[0m\u001b[0;36m5\u001b[0m\u001b[0;34m,\u001b[0m\u001b[0;36m6\u001b[0m\u001b[0;34m,\u001b[0m\u001b[0;36m77\u001b[0m\u001b[0;34m,\u001b[0m\u001b[0;36m77\u001b[0m\u001b[0;34m,\u001b[0m\u001b[0;36m99\u001b[0m\u001b[0;34m]\u001b[0m\u001b[0;34m)\u001b[0m\u001b[0;34m\u001b[0m\u001b[0;34m\u001b[0m\u001b[0m\n\u001b[0m",
            "\u001b[0;31mNameError\u001b[0m: name 'dups' is not defined"
          ]
        }
      ],
      "source": [
        "dups([2,3,3,3,5,6,77,77,99])"
      ]
    },
    {
      "cell_type": "code",
      "execution_count": null,
      "metadata": {
        "id": "BQ1ckC3oc4n8"
      },
      "outputs": [],
      "source": [
        "lensort =(['python', 'perl', 'java', 'c', 'haskell', 'ruby'])"
      ]
    },
    {
      "cell_type": "code",
      "execution_count": null,
      "metadata": {
        "id": "ig0KprYBerJd"
      },
      "outputs": [],
      "source": [
        "lensort.sort()"
      ]
    },
    {
      "cell_type": "code",
      "execution_count": null,
      "metadata": {
        "colab": {
          "base_uri": "https://localhost:8080/"
        },
        "id": "hJayfUuzeuJt",
        "outputId": "c31053f5-f7c4-4a91-b963-ce81ead12a95"
      },
      "outputs": [
        {
          "data": {
            "text/plain": [
              "['c', 'haskell', 'java', 'perl', 'python', 'ruby']"
            ]
          },
          "execution_count": 19,
          "metadata": {},
          "output_type": "execute_result"
        }
      ],
      "source": [
        "lensort"
      ]
    },
    {
      "cell_type": "code",
      "execution_count": null,
      "metadata": {
        "colab": {
          "base_uri": "https://localhost:8080/"
        },
        "id": "qf7z4jMpewYZ",
        "outputId": "72e2944d-3a3e-4842-c5b6-507e5a229b80"
      },
      "outputs": [
        {
          "name": "stdout",
          "output_type": "stream",
          "text": [
            "[]\n",
            "[2]\n",
            "[2]\n",
            "[2]\n",
            "[2]\n"
          ]
        }
      ],
      "source": [
        "# finding unique in the list\n",
        "l=[1,2,3,1,3]\n",
        "c=[]\n",
        "for x in l:\n",
        "    if(l.count(x)==1 and x not in c):\n",
        "       c.append(x)\n",
        "    print(c)\n",
        " "
      ]
    },
    {
      "cell_type": "code",
      "execution_count": null,
      "metadata": {
        "colab": {
          "base_uri": "https://localhost:8080/"
        },
        "id": "LHFXpymxjNSr",
        "outputId": "b7dc92e4-e162-4104-d30d-88be9db037b8"
      },
      "outputs": [
        {
          "name": "stdout",
          "output_type": "stream",
          "text": [
            "2\n",
            "3\n",
            "4\n"
          ]
        }
      ],
      "source": [
        "# program to show duplicates in the list\n",
        "dups=[1,2,2,2,3,3,4,4,9,8]\n",
        "s=[]\n",
        "for i in dups:\n",
        "  if(dups.count(i)>1 and i not in s):\n",
        "    s.append(i)\n",
        "    print(i)"
      ]
    },
    {
      "cell_type": "code",
      "execution_count": null,
      "metadata": {
        "colab": {
          "base_uri": "https://localhost:8080/"
        },
        "id": "dkuRF-4IldOQ",
        "outputId": "6c55c9c3-1957-4003-a8cd-08f049c8be61"
      },
      "outputs": [
        {
          "name": "stdout",
          "output_type": "stream",
          "text": [
            "enter your name\n",
            "kavita\n",
            "name is already present there\n"
          ]
        }
      ],
      "source": [
        "# write a program to find whether the name is present in the list or not\n",
        "l=[\"kavita\",\"Deeksha\",\"pankaj\",\"neelam\",\"khem\"]\n",
        "names=input(\"enter your name\\n\")\n",
        "if (names in l):\n",
        "       print(\"name is already present there\")\n",
        "else:\n",
        "    print(\"name is not in the list\")"
      ]
    },
    {
      "cell_type": "code",
      "execution_count": null,
      "metadata": {
        "colab": {
          "base_uri": "https://localhost:8080/"
        },
        "id": "Bi_fdet2pPWP",
        "outputId": "e3a3bcf8-d10e-4ca3-adac-841531eefc33"
      },
      "outputs": [
        {
          "name": "stdout",
          "output_type": "stream",
          "text": [
            "enter marks97\n",
            "Excellent\n"
          ]
        }
      ],
      "source": [
        "# program to calculate the grade of a student from his marks\n",
        "marks=int(input(\"enter marks\"))\n",
        "if (marks <50):\n",
        "  print(\"fail\")\n",
        "  if marks >=50:\n",
        "    print(\"D\")\n",
        "  elif marks>=60:\n",
        "       print(\"C\")\n",
        "  elif marks>=70:\n",
        "       print(\"B\")\n",
        "  elif marks<=80:\n",
        "        print(\"A\")\n",
        "else:\n",
        "       print(\"Excellent\")\n",
        "\n",
        "\n"
      ]
    },
    {
      "cell_type": "code",
      "execution_count": null,
      "metadata": {
        "colab": {
          "base_uri": "https://localhost:8080/"
        },
        "id": "AT_NkJDNrVc4",
        "outputId": "52126a40-0f20-4bf3-e649-fff9f4f03185"
      },
      "outputs": [
        {
          "name": "stdout",
          "output_type": "stream",
          "text": [
            "enter post\n",
            "RANI\n",
            "this post is not talking about kavi \n"
          ]
        }
      ],
      "source": [
        "# write a program to find whether a given post is talking about kavi or not\n",
        "post=input(\"enter post\\n\")\n",
        "a=\"kavi\"\n",
        "if a.lower()==post  or a.upper()==post :\n",
        "  print(\"this post is talking about kavi\")\n",
        "else:\n",
        "    print(\"this post is not talking about kavi \")"
      ]
    },
    {
      "cell_type": "code",
      "execution_count": null,
      "metadata": {
        "colab": {
          "base_uri": "https://localhost:8080/"
        },
        "id": "rsjoAK5VOZbc",
        "outputId": "061aee44-7bd7-4001-cc49-8bf7a1890f40"
      },
      "outputs": [
        {
          "name": "stdout",
          "output_type": "stream",
          "text": [
            "kavita is a good person, pankaj is a good person, mummy is a good person, papa is a good person, "
          ]
        }
      ],
      "source": [
        "name=(\"kavita\",\"pankaj\",\"mummy\",\"papa\")\n",
        "for i in name:\n",
        "  print(i,end=\" is a good person, \")"
      ]
    },
    {
      "cell_type": "code",
      "execution_count": null,
      "metadata": {
        "colab": {
          "base_uri": "https://localhost:8080/"
        },
        "id": "JNjI9nQYOZNX",
        "outputId": "4bf5bfef-d7aa-4f67-d19f-0dc753b9f622"
      },
      "outputs": [
        {
          "name": "stdout",
          "output_type": "stream",
          "text": [
            "name kavita  is gender female  is hired yes  is "
          ]
        }
      ],
      "source": [
        "d_dict={\"name\":\"kavita\",\n",
        "\"gender\":\"female\",\n",
        "\"hired\":\"yes\"\n",
        "    }\n",
        "for i,j in d_dict.items():\n",
        " print(i,j,end=\"  is \")"
      ]
    },
    {
      "cell_type": "code",
      "execution_count": null,
      "metadata": {
        "colab": {
          "base_uri": "https://localhost:8080/"
        },
        "id": "5udVIF8eOY9x",
        "outputId": "7b12d7af-4fb2-4bc8-918c-e8291250f1ad"
      },
      "outputs": [
        {
          "name": "stdout",
          "output_type": "stream",
          "text": [
            "yes0\n",
            "done\n",
            "yes1\n",
            "done\n",
            "yes2\n",
            "done\n",
            "yes3\n",
            "done\n",
            "yes4\n",
            "done\n",
            "yes5\n",
            "done\n",
            "yes6\n",
            "done\n",
            "yes7\n",
            "done\n",
            "yes8\n",
            "done\n",
            "yes9\n",
            "done\n"
          ]
        }
      ],
      "source": [
        "i=0\n",
        "while i<10:\n",
        "  print(\"yes\"+str(i))\n",
        "  i=i+1\n",
        "  print('done')\n",
        "  \n"
      ]
    },
    {
      "cell_type": "code",
      "execution_count": null,
      "metadata": {
        "colab": {
          "base_uri": "https://localhost:8080/"
        },
        "id": "pJ2yO2Www55i",
        "outputId": "4207fd6e-0266-4050-fbd4-66652993650d"
      },
      "outputs": [
        {
          "name": "stdout",
          "output_type": "stream",
          "text": [
            "1 2 3 4 5 6 7 8 9 10 11 12 13 14 15 16 17 18 19 20 21 22 23 24 25 26 27 28 29 30 31 32 33 34 35 36 37 38 39 40 41 42 43 44 45 46 47 48 49 50 "
          ]
        }
      ],
      "source": [
        "# print 1 to 50 loop using while loop\n",
        "# if we want increment then add at the end after print\n",
        "i=1\n",
        "while i<=50:    \n",
        "      print(i,end=' ')\n",
        "      i=i+1\n",
        " \n",
        "  "
      ]
    },
    {
      "cell_type": "code",
      "execution_count": null,
      "metadata": {
        "colab": {
          "base_uri": "https://localhost:8080/"
        },
        "id": "ardGnD7Cx_A1",
        "outputId": "0dc77133-0dce-4827-f6e6-8686f9b5ef4c"
      },
      "outputs": [
        {
          "name": "stdout",
          "output_type": "stream",
          "text": [
            "banana carrot apple pineapple guava "
          ]
        }
      ],
      "source": [
        "# while loop to print fruits in list\n",
        "fruits=[\"banana\",\"carrot\",\"apple\",\"pineapple\",\"guava\"]\n",
        "i=0\n",
        "while i <len(fruits):\n",
        "  print(fruits[i],end=\" \")\n",
        "  i=i+1"
      ]
    },
    {
      "cell_type": "code",
      "execution_count": null,
      "metadata": {
        "colab": {
          "base_uri": "https://localhost:8080/"
        },
        "id": "nZOewzcRq5K0",
        "outputId": "b7079bc9-86bb-42f0-efb1-21021357f987"
      },
      "outputs": [
        {
          "name": "stdout",
          "output_type": "stream",
          "text": [
            "banana carrot apple pineapple guava "
          ]
        }
      ],
      "source": [
        "# for loop to print fruits in list\n",
        "for f in fruits:\n",
        "  print(f,end=\" \")"
      ]
    },
    {
      "cell_type": "code",
      "execution_count": null,
      "metadata": {
        "colab": {
          "base_uri": "https://localhost:8080/"
        },
        "id": "jkO-CvPFrzeu",
        "outputId": "77f70afb-d051-4edd-c47b-7c684409abe1"
      },
      "outputs": [
        {
          "name": "stdout",
          "output_type": "stream",
          "text": [
            "2\n",
            "4\n",
            "6\n",
            "bye\n"
          ]
        }
      ],
      "source": [
        "# syntax for i in rangge  (start,stop,step range)\n",
        "for i in range(2,8,2):\n",
        "  print (i)\n",
        "else:\n",
        "      print(\"bye\")"
      ]
    },
    {
      "cell_type": "code",
      "execution_count": null,
      "metadata": {
        "colab": {
          "base_uri": "https://localhost:8080/"
        },
        "id": "jBO06sitttJr",
        "outputId": "007a46bd-a352-41d6-a7c4-ecb3f5a2168b"
      },
      "outputs": [
        {
          "name": "stdout",
          "output_type": "stream",
          "text": [
            "0 1 2 3 4 5 6 7 "
          ]
        }
      ],
      "source": [
        "# use of pass in loops pass means nothing\n",
        "\n",
        "for lang in range(10):\n",
        "    if lang == 8:\n",
        "      break  \n",
        "    print(lang, end=\" \")\n",
        "    if lang >0:\n",
        "      pass\n",
        "\n",
        "\n"
      ]
    },
    {
      "cell_type": "code",
      "execution_count": null,
      "metadata": {
        "id": "2-1qjNtxv3PC"
      },
      "outputs": [],
      "source": [
        "# printing a table of any number\n",
        "\n",
        "num=int(input(\"enter the number\\n\"))\n",
        "for i in range(1,11):\n",
        "  print(str(num) + \" X \"+str(i) +\" = \"+str(num*i))\n",
        "\n",
        "\n",
        "\n",
        "  "
      ]
    },
    {
      "cell_type": "code",
      "execution_count": null,
      "metadata": {
        "colab": {
          "base_uri": "https://localhost:8080/"
        },
        "id": "VtwWqajN0hrY",
        "outputId": "90e75613-9a76-4a8f-cc53-644d9eca94b1"
      },
      "outputs": [
        {
          "name": "stdout",
          "output_type": "stream",
          "text": [
            "enter the number\n",
            "7\n",
            "7X1=7\n",
            "7X2=14\n",
            "7X3=21\n",
            "7X4=28\n",
            "7X5=35\n",
            "7X6=42\n",
            "7X7=49\n",
            "7X8=56\n",
            "7X9=63\n",
            "7X10=70\n"
          ]
        }
      ],
      "source": [
        "\n",
        "  # second way of doing this is by using f strings\n",
        "num=int(input(\"enter the number\\n\"))\n",
        "for i in range(1,11):\n",
        "  print(f\"{num}X{i}={num*i}\")\n"
      ]
    },
    {
      "cell_type": "code",
      "execution_count": null,
      "metadata": {
        "colab": {
          "base_uri": "https://localhost:8080/"
        },
        "id": "JwRGtJfZ1_QN",
        "outputId": "5822fac0-53ed-43fb-b322-b7961a12ef3f"
      },
      "outputs": [
        {
          "name": "stdout",
          "output_type": "stream",
          "text": [
            "hello dear sahni\n",
            "hello dear sohans\n"
          ]
        }
      ],
      "source": [
        "# aap list ko directly call nhi kar sakte use for loop iskeliyye\n",
        "l=[\"sahni\",\"sohans\",\"Sohini\"]\n",
        "for i in l:\n",
        "     if (i.startswith(\"s\")):\n",
        "         print(\"hello dear \"+i)"
      ]
    },
    {
      "cell_type": "code",
      "source": [
        "num=int(input(\"enter the table number\"))\n",
        "i=1\n",
        "for i in range(1,11):\n",
        "  print(str(num) +\" X \"+str(i)+ \" = \"+ str(num*i))\n",
        "  i=i+1"
      ],
      "metadata": {
        "colab": {
          "base_uri": "https://localhost:8080/"
        },
        "id": "NjrUkfIjmVAm",
        "outputId": "0690e82b-5efe-4a09-a2d2-8bbc4b3f91ea"
      },
      "execution_count": null,
      "outputs": [
        {
          "output_type": "stream",
          "name": "stdout",
          "text": [
            "enter the table number5\n",
            "5 X 1 = 5\n",
            "5 X 2 = 10\n",
            "5 X 3 = 15\n",
            "5 X 4 = 20\n",
            "5 X 5 = 25\n",
            "5 X 6 = 30\n",
            "5 X 7 = 35\n",
            "5 X 8 = 40\n",
            "5 X 9 = 45\n",
            "5 X 10 = 50\n"
          ]
        }
      ]
    },
    {
      "cell_type": "code",
      "execution_count": null,
      "metadata": {
        "id": "1Olo0ye922NE"
      },
      "outputs": [],
      "source": [
        "# here we have used string to print bcoz concatenations can be performed on string\n",
        "num=int(input(\"enter table number\"))\n",
        "i=1\n",
        "while i<11:\n",
        "   \n",
        "   print(str(num) + \" X \"+str(i) +\" = \"+str(num*i))\n",
        "   i=i+1\n",
        "   "
      ]
    },
    {
      "cell_type": "code",
      "execution_count": null,
      "metadata": {
        "id": "YzsrZ5PZ4iY9",
        "colab": {
          "base_uri": "https://localhost:8080/"
        },
        "outputId": "6da2b5d7-b42b-44ac-cadd-848c3b98f5b4"
      },
      "outputs": [
        {
          "output_type": "execute_result",
          "data": {
            "text/plain": [
              "2"
            ]
          },
          "metadata": {},
          "execution_count": 9
        }
      ],
      "source": [
        "4//2"
      ]
    },
    {
      "cell_type": "code",
      "source": [
        "num_list=[1,2,3,4,5]\n",
        "num_list.remove(2)\n",
        "print(num_list)"
      ],
      "metadata": {
        "colab": {
          "base_uri": "https://localhost:8080/"
        },
        "id": "UK9ehAug93Zq",
        "outputId": "7627682d-ec81-4b18-c315-2be6e4d76e45"
      },
      "execution_count": null,
      "outputs": [
        {
          "output_type": "stream",
          "name": "stdout",
          "text": [
            "[1, 3, 4, 5]\n"
          ]
        }
      ]
    },
    {
      "cell_type": "code",
      "source": [
        "# program to find whether the number is prime or not.\n",
        "num=int(input(\"enter the number\\n\"))\n",
        "if i>1:               # 1 is not a prime number\n",
        "  prime=True\n",
        "\n",
        "for i in range(2,num):\n",
        "       if(num%i==0):                 # if a number has only two factors =prime e.g 2X1 is prime\n",
        "         prime=False                     # modulo operator gives the remainder if remainder ==0 then not prime\n",
        "         break\n",
        "if prime:\n",
        "    print(\"this is a prime number\")\n",
        "else:\n",
        "    print(\"this is not a prime number\")"
      ],
      "metadata": {
        "colab": {
          "base_uri": "https://localhost:8080/"
        },
        "id": "SJjvu7USMEbL",
        "outputId": "1acc910b-b4be-449e-e08d-d1533f7dad19"
      },
      "execution_count": null,
      "outputs": [
        {
          "output_type": "stream",
          "name": "stdout",
          "text": [
            "enter the number\n",
            "4\n",
            "this is not a prime number\n"
          ]
        }
      ]
    },
    {
      "cell_type": "code",
      "source": [
        "# natural numbers starts from 1(whole number=0)\n",
        "n=int(input(\"enter a number\"))\n",
        "i=1\n",
        "sum = 0\n",
        "for n in range(1,n+1):\n",
        "  while i<n:\n",
        "   sum =sum+n\n",
        "\n",
        "print ('The sum of the natural numbers is: ', sum)"
      ],
      "metadata": {
        "id": "LXXTu6KmMER8",
        "colab": {
          "base_uri": "https://localhost:8080/"
        },
        "outputId": "168591a3-3a53-431f-b3f6-6c1f9548d6a9"
      },
      "execution_count": null,
      "outputs": [
        {
          "name": "stdout",
          "output_type": "stream",
          "text": [
            "enter a number1\n"
          ]
        }
      ]
    },
    {
      "cell_type": "code",
      "source": [
        "# printing factorial of a number\n",
        "num=int(input(\"enter the number\"))\n",
        "factorial=1\n",
        "for i in range(1,num+1):          # num+1 is bcoz range takes value as (1,last-1)\n",
        "   factorial = factorial * i\n",
        "   print(str(factorial))\n",
        "\n",
        "\n"
      ],
      "metadata": {
        "id": "RSgF53hXMED9"
      },
      "execution_count": null,
      "outputs": []
    },
    {
      "cell_type": "code",
      "source": [
        "# printing stars\n",
        "for i in range(5):\n",
        "  print(\"*\"* (i+1))"
      ],
      "metadata": {
        "id": "wR66DBrKMDG1"
      },
      "execution_count": null,
      "outputs": []
    },
    {
      "cell_type": "code",
      "source": [
        "# printing stars in distinct pattern\n",
        "n=3\n",
        "for i in range(3):\n",
        "  print(\" \" * (n-i-1),end=\" \")   # will give space before star\n",
        "  print(\"*\" * (2*i+1),end=\" \")   # will give one star when i=0and star =3 when i=1 in next iteration\n",
        "  print(\" \" * (n-i-1))           # will give space  after star here\n"
      ],
      "metadata": {
        "id": "8-hOvPpnom53"
      },
      "execution_count": null,
      "outputs": []
    },
    {
      "cell_type": "code",
      "source": [
        "num=int(input(\"enter the table number\"))\n",
        "i=1\n",
        "for i in reversed(range(1,10)):\n",
        "  print(str(num) +\" X \"+str(i)+ \" = \"+ str(num*i))\n",
        "  i=i+1\n"
      ],
      "metadata": {
        "colab": {
          "base_uri": "https://localhost:8080/"
        },
        "id": "3eNUOkx1qxaJ",
        "outputId": "d06da73a-0fb4-410d-fefc-24aa3cec0e11"
      },
      "execution_count": null,
      "outputs": [
        {
          "output_type": "stream",
          "name": "stdout",
          "text": [
            "enter the table number3\n",
            "3 X 10 = 30\n",
            "3 X 9 = 27\n",
            "3 X 8 = 24\n",
            "3 X 7 = 21\n",
            "3 X 6 = 18\n",
            "3 X 5 = 15\n",
            "3 X 4 = 12\n",
            "3 X 3 = 9\n",
            "3 X 2 = 6\n",
            "3 X 1 = 3\n"
          ]
        }
      ]
    },
    {
      "cell_type": "code",
      "source": [
        "def volume(length,breadth,height):\n",
        "  return length*breadth*height\n",
        "  "
      ],
      "metadata": {
        "id": "EkgwNN6Nt70e"
      },
      "execution_count": null,
      "outputs": []
    },
    {
      "cell_type": "code",
      "source": [
        "volume(3,5,7)"
      ],
      "metadata": {
        "colab": {
          "base_uri": "https://localhost:8080/"
        },
        "id": "8ZxbrOBelu3k",
        "outputId": "dda6927c-3669-40a5-ccd1-024a0eae3a88"
      },
      "execution_count": null,
      "outputs": [
        {
          "output_type": "execute_result",
          "data": {
            "text/plain": [
              "105"
            ]
          },
          "metadata": {},
          "execution_count": 8
        }
      ]
    },
    {
      "cell_type": "code",
      "source": [
        "# defining functions\n",
        "def greet():\n",
        "  print(\"Good Day\")"
      ],
      "metadata": {
        "id": "ZDmMQlYSlyjM"
      },
      "execution_count": null,
      "outputs": []
    },
    {
      "cell_type": "code",
      "source": [
        "# calling function\n",
        "greet()"
      ],
      "metadata": {
        "colab": {
          "base_uri": "https://localhost:8080/"
        },
        "id": "7e1QmjeDmuYq",
        "outputId": "e1958c85-8ef4-4c94-af77-41a408ece860"
      },
      "execution_count": null,
      "outputs": [
        {
          "output_type": "stream",
          "name": "stdout",
          "text": [
            "Good Day\n"
          ]
        }
      ]
    },
    {
      "cell_type": "code",
      "source": [
        "# giving default value '''here we have given stranger as default value'''\n",
        "def greet3(name=\"stranger\"):\n",
        "  print(\"hii\"+\"  \"+ name)"
      ],
      "metadata": {
        "id": "vv67RW5smv_b"
      },
      "execution_count": null,
      "outputs": []
    },
    {
      "cell_type": "code",
      "source": [
        ""
      ],
      "metadata": {
        "id": "KNLaBcg2pdWO"
      },
      "execution_count": null,
      "outputs": []
    },
    {
      "cell_type": "code",
      "source": [
        "greet3(\"kavi\")\n"
      ],
      "metadata": {
        "colab": {
          "base_uri": "https://localhost:8080/"
        },
        "id": "hYWkFVDLnQjc",
        "outputId": "3bb883f3-8e41-4f3d-8f6f-1a68c17c7b1b"
      },
      "execution_count": null,
      "outputs": [
        {
          "output_type": "stream",
          "name": "stdout",
          "text": [
            "hii  kavi\n"
          ]
        }
      ]
    },
    {
      "cell_type": "code",
      "source": [
        "\n",
        "# factorial example\n",
        "def fact_iter(n):\n",
        "  n=0\n",
        "  factorial =1\n",
        "  for i in range(1,n+1):          # num+1 is bcoz range takes value as (1,last-1)\n",
        "   factorial = factorial * i\n",
        "   return(factorial)"
      ],
      "metadata": {
        "id": "2_miE7Qgpds1"
      },
      "execution_count": 53,
      "outputs": []
    },
    {
      "cell_type": "code",
      "source": [
        "import math"
      ],
      "metadata": {
        "id": "ci6xv0QUVhV6"
      },
      "execution_count": 69,
      "outputs": []
    },
    {
      "cell_type": "code",
      "source": [
        "f= factorial_iter(5)\n",
        "print(f)"
      ],
      "metadata": {
        "colab": {
          "base_uri": "https://localhost:8080/"
        },
        "id": "T3pajmVUPoRI",
        "outputId": "89efcf24-7c45-45c5-daaf-41e1fdaa446d"
      },
      "execution_count": 62,
      "outputs": [
        {
          "output_type": "stream",
          "name": "stdout",
          "text": [
            "5\n"
          ]
        }
      ]
    },
    {
      "cell_type": "code",
      "source": [
        "n=int(input(\"enter number\"))\n",
        "def factorial_iter(n):\n",
        " factorial=1\n",
        "if n>=1:\n",
        " for i in range(n):\n",
        "  factorial = factorial *i\n",
        "  print(factorial) \n"
      ],
      "metadata": {
        "id": "3SXbWhkrqCOD"
      },
      "execution_count": null,
      "outputs": []
    },
    {
      "cell_type": "code",
      "source": [
        "def fact_itera(n):\n",
        " n = input(\"Enter a number: \")\n",
        "factorial = 1\n",
        "if int(n) >= 1:\n",
        "   for i in range (1,int(n)+1):\n",
        "   factorial = factorial * i\n",
        "      return(factorial)"
      ],
      "metadata": {
        "colab": {
          "base_uri": "https://localhost:8080/"
        },
        "id": "7r985ebcWEFU",
        "outputId": "0d6e4384-be81-4d0f-c4f4-9b6e82dea358"
      },
      "execution_count": 74,
      "outputs": [
        {
          "output_type": "stream",
          "name": "stdout",
          "text": [
            "Factorial of  5  is :  120\n"
          ]
        }
      ]
    },
    {
      "cell_type": "code",
      "source": [
        "fact_itera(5)"
      ],
      "metadata": {
        "colab": {
          "base_uri": "https://localhost:8080/"
        },
        "id": "-pFog7zZWj_H",
        "outputId": "43b7b012-1c6a-42f8-f5e9-b870f6db06e9"
      },
      "execution_count": 75,
      "outputs": [
        {
          "name": "stdout",
          "output_type": "stream",
          "text": [
            "Enter a number: 5\n"
          ]
        }
      ]
    },
    {
      "cell_type": "code",
      "source": [
        "def fact_rec(n):\n",
        "  return n\n",
        "  f= fact_rec(5)\n",
        "  print(f)"
      ],
      "metadata": {
        "id": "jLkpzwbnqB6T"
      },
      "execution_count": null,
      "outputs": []
    },
    {
      "cell_type": "code",
      "source": [
        "print(5)"
      ],
      "metadata": {
        "colab": {
          "base_uri": "https://localhost:8080/"
        },
        "id": "SIHymr1lnUwz",
        "outputId": "e96d0019-b3d9-4a47-a9d9-ba15fa62f192"
      },
      "execution_count": null,
      "outputs": [
        {
          "output_type": "stream",
          "name": "stdout",
          "text": [
            "5\n"
          ]
        }
      ]
    },
    {
      "cell_type": "code",
      "source": [
        "def fact_recur(n):\n",
        "  if n==1 or n==0 :\n",
        "    return 1\n",
        "  else:\n",
        "    return n* fact_recur(n-1)"
      ],
      "metadata": {
        "id": "NYzJGbI6rlTt"
      },
      "execution_count": 8,
      "outputs": []
    },
    {
      "cell_type": "code",
      "source": [
        "f= fact_recur(5)\n",
        "print(f)"
      ],
      "metadata": {
        "colab": {
          "base_uri": "https://localhost:8080/"
        },
        "id": "axU4qzH4t0Uj",
        "outputId": "86281dce-340d-4851-bb35-ac43b681751e"
      },
      "execution_count": 10,
      "outputs": [
        {
          "output_type": "stream",
          "name": "stdout",
          "text": [
            "120\n"
          ]
        }
      ]
    },
    {
      "cell_type": "code",
      "source": [
        "def fibonn_series(n):\n",
        "  if n<=0:\n",
        "    print(\"wrong number\")\n",
        "  elif n==1:\n",
        "      return 0\n",
        "  elif n==2:\n",
        "        return 1\n",
        "  else:\n",
        "        j= (fibonn_series(n-1)+ fibonn_series(n-2))\n",
        "        return j"
      ],
      "metadata": {
        "id": "NhAPWvtTt2vw"
      },
      "execution_count": 31,
      "outputs": []
    },
    {
      "cell_type": "code",
      "source": [
        "fibonn_series(9)"
      ],
      "metadata": {
        "id": "lyLHUSVwvadt",
        "colab": {
          "base_uri": "https://localhost:8080/"
        },
        "outputId": "2197dca3-aea7-4211-926a-cccf46c6f07a"
      },
      "execution_count": 34,
      "outputs": [
        {
          "output_type": "execute_result",
          "data": {
            "text/plain": [
              "21"
            ]
          },
          "metadata": {},
          "execution_count": 34
        }
      ]
    },
    {
      "cell_type": "code",
      "source": [
        "# Using function print greatest of three numbers\n",
        "def max_number(num1,num2,num3):\n",
        " if num1>num2:\n",
        "    if num1>num3:\n",
        "         return num1\n",
        "    else:\n",
        "          return num3\n",
        " else:\n",
        "    if num2>num3:\n",
        "        return num2\n",
        "    else:\n",
        "         return num3"
      ],
      "metadata": {
        "id": "YHtvo5PoKOBi"
      },
      "execution_count": 76,
      "outputs": []
    },
    {
      "cell_type": "code",
      "source": [
        "max_number(4,78,9)"
      ],
      "metadata": {
        "colab": {
          "base_uri": "https://localhost:8080/"
        },
        "id": "U4_ZNEO4m5I6",
        "outputId": "2c8146cb-3e81-4b77-97d7-1860e166e904"
      },
      "execution_count": 77,
      "outputs": [
        {
          "output_type": "execute_result",
          "data": {
            "text/plain": [
              "78"
            ]
          },
          "metadata": {},
          "execution_count": 77
        }
      ]
    },
    {
      "cell_type": "code",
      "source": [
        "# using function to convert fahrenheit to celsius\n",
        "def fahr(cel):\n",
        "  return(cel*(9/5)) +32\n",
        "  f=fahr(cel)\n",
        "  print(str(f))"
      ],
      "metadata": {
        "id": "mOn8CF7vm8kT"
      },
      "execution_count": 88,
      "outputs": []
    },
    {
      "cell_type": "code",
      "source": [
        "fahr(0)"
      ],
      "metadata": {
        "colab": {
          "base_uri": "https://localhost:8080/"
        },
        "id": "-W0Dfix_noRC",
        "outputId": "73e50f49-3949-449e-b323-b9f6058df326"
      },
      "execution_count": 91,
      "outputs": [
        {
          "output_type": "execute_result",
          "data": {
            "text/plain": [
              "32.0"
            ]
          },
          "metadata": {},
          "execution_count": 91
        }
      ]
    },
    {
      "cell_type": "code",
      "source": [
        "# how to prevent print function to take a new line\n",
        "print(\"hello\",end=\" \")\n",
        "print(\"hello\",end=\" \")\n",
        "print(\"hello\",end=\" \")\n",
        "print(\"hello\",end=\" \")\n",
        "\n"
      ],
      "metadata": {
        "colab": {
          "base_uri": "https://localhost:8080/"
        },
        "id": "ASi7dI38nqS5",
        "outputId": "d812574c-4b42-4aef-c922-1880d6519331"
      },
      "execution_count": 93,
      "outputs": [
        {
          "output_type": "stream",
          "name": "stdout",
          "text": [
            "hello hello hello hello "
          ]
        }
      ]
    },
    {
      "cell_type": "code",
      "source": [
        ""
      ],
      "metadata": {
        "id": "K6Fq9BjYrnJP"
      },
      "execution_count": null,
      "outputs": []
    },
    {
      "cell_type": "code",
      "source": [
        "# using function sum of n naturalnumbers\n",
        "def sum_123(n):\n",
        "     sum= sum*(n-1)+n\n",
        "sum =0\n",
        "i=1\n",
        "for i in range(1,n):\n",
        " print(sum(n))\n"
      ],
      "metadata": {
        "id": "h0mU1Lzvpbek"
      },
      "execution_count": null,
      "outputs": []
    },
    {
      "cell_type": "code",
      "source": [
        "n=6\n",
        "for i in range(n):\n",
        " print(\"*\"*(n-i))"
      ],
      "metadata": {
        "colab": {
          "base_uri": "https://localhost:8080/"
        },
        "id": "ggr7OMHLrPmS",
        "outputId": "5fc4ef82-bfae-4502-8123-6377dae72f36"
      },
      "execution_count": 101,
      "outputs": [
        {
          "output_type": "stream",
          "name": "stdout",
          "text": [
            "******\n",
            "*****\n",
            "****\n",
            "***\n",
            "**\n",
            "*\n"
          ]
        }
      ]
    },
    {
      "cell_type": "code",
      "source": [
        "# removing  a word from string (e.g kavita)and stripping space (as was on LHS and RHS of kavita)\n",
        "def remove_str(string,word):\n",
        "  newstr= string.replace(word,\"\")\n",
        "  return newstr.strip()\n",
        "  this=\"   kavita is a good person   \"\n",
        "  n=remove_str(this,\"kavita\")\n",
        "  print(n)\n"
      ],
      "metadata": {
        "id": "d2lceP4wsZHv"
      },
      "execution_count": 111,
      "outputs": []
    },
    {
      "cell_type": "code",
      "source": [
        "remove_str(this,\"kavita\")"
      ],
      "metadata": {
        "colab": {
          "base_uri": "https://localhost:8080/",
          "height": 165
        },
        "id": "qqoDmR8Bvhmn",
        "outputId": "2d5dd9f6-46e4-4339-ea48-dd0383475dad"
      },
      "execution_count": 112,
      "outputs": [
        {
          "output_type": "error",
          "ename": "NameError",
          "evalue": "ignored",
          "traceback": [
            "\u001b[0;31m---------------------------------------------------------------------------\u001b[0m",
            "\u001b[0;31mNameError\u001b[0m                                 Traceback (most recent call last)",
            "\u001b[0;32m<ipython-input-112-61ee207b608a>\u001b[0m in \u001b[0;36m<module>\u001b[0;34m()\u001b[0m\n\u001b[0;32m----> 1\u001b[0;31m \u001b[0mremove_str\u001b[0m\u001b[0;34m(\u001b[0m\u001b[0mthis\u001b[0m\u001b[0;34m,\u001b[0m\u001b[0;34m\"kavita\"\u001b[0m\u001b[0;34m)\u001b[0m\u001b[0;34m\u001b[0m\u001b[0;34m\u001b[0m\u001b[0m\n\u001b[0m",
            "\u001b[0;31mNameError\u001b[0m: name 'this' is not defined"
          ]
        }
      ]
    },
    {
      "cell_type": "code",
      "source": [
        "import random\n",
        "\n",
        "# Snake Water Gun or Rock Paper Scissors\n",
        "def gameWin(comp, you):\n",
        "    # If two values are equal, declare a tie!\n",
        "    if comp == you:\n",
        "        return None\n",
        "\n",
        "    # Check for all possibilities when computer chose s\n",
        "    elif comp == 's':\n",
        "        if you=='w':\n",
        "            return False\n",
        "        elif you=='g':\n",
        "            return True\n",
        "    \n",
        "    # Check for all possibilities when computer chose w\n",
        "    elif comp == 'w':\n",
        "        if you=='g':\n",
        "            return False\n",
        "        elif you=='s':\n",
        "            return True\n",
        "    \n",
        "    # Check for all possibilities when computer chose g\n",
        "    elif comp == 'g':\n",
        "        if you=='s':\n",
        "            return False\n",
        "        elif you=='w':\n",
        "            return True\n",
        "\n",
        "print(\"Comp Turn: Snake(s) Water(w) or Gun(g)?\")\n",
        "randNo = random.randint(1, 3) \n",
        "if randNo == 1:\n",
        "    comp = 's'\n",
        "elif randNo == 2:\n",
        "    comp = 'w'\n",
        "elif randNo == 3:\n",
        "    comp = 'g'\n",
        "\n",
        "you = input(\"Your Turn: Snake(s) Water(w) or Gun(g)?\")\n",
        "a = gameWin(comp, you)\n",
        "\n",
        "print(f\"Computer chose {comp}\")\n",
        "print(f\"You chose {you}\")\n",
        "\n",
        "if a == None:\n",
        "    print(\"The game is a tie!\")\n",
        "elif a:\n",
        "    print(\"You Win!\")\n",
        "else:\n",
        "    print(\"You Lose!\")"
      ],
      "metadata": {
        "colab": {
          "base_uri": "https://localhost:8080/"
        },
        "id": "0AOH__AtvjeS",
        "outputId": "b1b2e79f-c220-4791-89d0-e4958b7e3fde"
      },
      "execution_count": 33,
      "outputs": [
        {
          "output_type": "stream",
          "name": "stdout",
          "text": [
            "Comp Turn: Snake(s) Water(w) or Gun(g)?\n",
            "Your Turn: Snake(s) Water(w) or Gun(g)?s\n",
            "Computer chose w\n",
            "You chose s\n",
            "You Win!\n"
          ]
        }
      ]
    },
    {
      "cell_type": "code",
      "source": [
        "import random\n",
        "def gamewin(computer,you):\n",
        " # If two values are equal, declare a tie!\n",
        "    if computer == you:\n",
        "        return None\n",
        "\n",
        "    # Check for all possibilities when computer chose s\n",
        "    elif computer == 's':\n",
        "        if you=='w':\n",
        "            return False\n",
        "        elif you=='g':\n",
        "            return True\n",
        "    \n",
        "    # Check for all possibilities when computer chose w\n",
        "    elif computer == 'w':\n",
        "        if you=='g':\n",
        "            return False\n",
        "        elif you=='s':\n",
        "            return True\n",
        "    \n",
        "    # Check for all possibilities when computer chose g\n",
        "    elif computer == 'g':\n",
        "        if you=='s':\n",
        "            return False\n",
        "        elif you=='w':\n",
        "            return True \n",
        "print(\"computer's turn:You can choose snake(s)or water(w) or gun(g)\")\n",
        "randnumber= random.randint(1,3)\n",
        "if randnumber==1:\n",
        "   computer =\"s\"\n",
        "elif randnumber==2:\n",
        "   computer=\"w\"\n",
        "elif randnumber==3:\n",
        "    computer=\"g\"\n",
        "player=input(\"player's turn: You can choose snake (s) or water (w) or gun (g)\")\n",
        "a=gamewin(computer,you)\n",
        "print(f\"Computer chose {computer}\")\n",
        "print(f\"You chose {you}\")\n",
        "if a==None:\n",
        "  print(\"this game is a tie.\",end= '\"Try again to win\"')\n",
        "elif a :\n",
        "    print(\"you won this\",end='''\"Congratulations!!!\"''')\n",
        "else:\n",
        "       print(\"You lost\",end=''' \"Try again to win\" ''')  \n"
      ],
      "metadata": {
        "colab": {
          "base_uri": "https://localhost:8080/"
        },
        "id": "0yNTPp3kzh9t",
        "outputId": "8b5a3a1e-1f69-46ba-aac2-ee976e85d6a7"
      },
      "execution_count": 37,
      "outputs": [
        {
          "output_type": "stream",
          "name": "stdout",
          "text": [
            "computer's turn:You can choose snake(s)or water(w) or gun(g)\n",
            "player's turn: You can choose snake (s) or water (w) or gun (g)s\n",
            "Computer chose w\n",
            "You chose s\n",
            "you won this\"Congratulations!!!\""
          ]
        }
      ]
    },
    {
      "cell_type": "code",
      "source": [
        "\n"
      ],
      "metadata": {
        "colab": {
          "base_uri": "https://localhost:8080/",
          "height": 165
        },
        "id": "1DoT1JcBjpRM",
        "outputId": "a69b8cec-89af-4333-ea5f-a29af36c15e4"
      },
      "execution_count": 23,
      "outputs": [
        {
          "output_type": "error",
          "ename": "NameError",
          "evalue": "ignored",
          "traceback": [
            "\u001b[0;31m---------------------------------------------------------------------------\u001b[0m",
            "\u001b[0;31mNameError\u001b[0m                                 Traceback (most recent call last)",
            "\u001b[0;32m<ipython-input-23-a5938ace3f42>\u001b[0m in \u001b[0;36m<module>\u001b[0;34m()\u001b[0m\n\u001b[0;32m----> 1\u001b[0;31m \u001b[0mg\u001b[0m\u001b[0;34m\u001b[0m\u001b[0;34m\u001b[0m\u001b[0m\n\u001b[0m",
            "\u001b[0;31mNameError\u001b[0m: name 'g' is not defined"
          ]
        }
      ]
    },
    {
      "cell_type": "code",
      "source": [
        ""
      ],
      "metadata": {
        "id": "afCv6HGHfAP8"
      },
      "execution_count": null,
      "outputs": []
    }
  ],
  "metadata": {
    "colab": {
      "collapsed_sections": [],
      "name": "game.ipynb",
      "provenance": [],
      "authorship_tag": "ABX9TyPFn1zRKj2NV+S1VtyZYIBd",
      "include_colab_link": true
    },
    "kernelspec": {
      "display_name": "Python 3",
      "name": "python3"
    },
    "language_info": {
      "name": "python"
    }
  },
  "nbformat": 4,
  "nbformat_minor": 0
}